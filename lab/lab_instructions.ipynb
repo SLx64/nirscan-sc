{
 "cells": [
  {
   "cell_type": "markdown",
   "metadata": {},
   "source": [
    "# Affordable and easy data exploration of NIR spectra using chemometric techniques (Supporting Information)\n",
    "\n",
    "## Journal of Chemical Eduction\n",
    "\n",
    "https://pubs.acs.org/journal/jceda8\n",
    "\n",
    "## Authors\n",
    "\n",
    "David Mainka<sup>1</sup>, Julius Krause<sup>2</sup>, Linus Großmann<sup>2</sup>, Andreas Link<sup>1</sup> and Lukas Schulig<sup>1</sup>\n",
    "\n",
    "<sup>1</sup> Department of Medicinal and Pharmaceutical Chemistry, Institute of Pharmacy, University of Greifswald, 17489 Greifswald\n",
    "\n",
    "<sup>2</sup> Department of Biopharmaceutics and Pharmaceutical Technology, Institute of Pharmacy, University of Greifswald, 17489 Greifswald\n",
    "\n",
    "### Corresponding Author\n",
    "\n",
    "**Lukas Schulig**\n",
    "\n",
    "E-mail: lukas.schulig@uni-greifswald.de\n",
    "\n",
    "Phone: +49 (0)3834 420 4817\n",
    "\n",
    "## Instruction for Students\n",
    "\n",
    "This notebook serves as an instruction manual for the students and is completed during the course by them with the results and analyses.\n",
    "\n",
    "----"
   ]
  },
  {
   "cell_type": "markdown",
   "metadata": {},
   "source": [
    "## Introduction\n",
    "\n",
    "Near-Infrared (NIR) spectroscopy is a powerful analytical technique used in the pharmaceutical industry to identify and characterize drug compounds. As a non-destructive and non-invasive method, NIR spectroscopy can quickly and accurately provide information about the chemical composition of a sample.\n",
    "\n",
    "### Learning Objectives\n",
    "\n",
    " - Sample preparation and measurement of NIR spectra for pharmaceutical analysis\n",
    " - Understanding the capabilities and limitations of NIR spectroscopy\n",
    " - Physical influences on the measurement of spectra\n",
    " - Types and applications of preprocessing methods\n",
    " - Basic understanding of data exploration workflows\n",
    " \n",
    "## Laboratory Experiments\n",
    "\n",
    "In this lab experiment, you will measure the spectra of all samples provided.  The sample preparation is a critical step here and must be performed carefully.\n",
    "\n",
    "### Hazards\n",
    "\n",
    " - No special hazard precautions other than standard laboratory requirements need to be taken.\n",
    " - Do not look directly into the lamp of the spectrometer.\n",
    " \n",
    "### Materials\n",
    "\n",
    " - Substances are provided by the course instructor\n",
    " - Glass vials for NIR measurements\n",
    " - DLP® NIRScan™ Nano EVM with a control device or computer\n",
    " \n",
    "### Experimental Procedure\n",
    "\n",
    "All steps will be discussed with the instructor prior to the experiment. The instructor will then give you a brief introduction to the device.\n",
    "\n",
    " - Carefully transfer the respective sample into the glass vial using a spatula.\n",
    " - A minimum filling height of about 1 cm should be achieved.\n",
    " - Shake the glass vial carefully and gently before measurement.\n",
    " - Measure your sample with the spectrometer.\n",
    " \n",
    "Repeat this process for all sample.\n",
    "\n",
    "## Data Analysis\n",
    "\n",
    "Copy the Python NIRScanNano library to your folder or use a local installation."
   ]
  },
  {
   "cell_type": "markdown",
   "metadata": {},
   "source": [
    "%%bash\n",
    "\n",
    "git clone https://github.com/SLx64/nirscan-sc\n",
    "mv ./nirscan-sc/NIRScanNano ."
   ]
  },
  {
   "cell_type": "markdown",
   "metadata": {},
   "source": [
    "### Preparation\n",
    "\n",
    "Load all required library functions first."
   ]
  },
  {
   "cell_type": "code",
   "execution_count": null,
   "metadata": {},
   "outputs": [],
   "source": [
    "import matplotlib.pyplot as plt\n",
    "plt.style.use(\"ggplot\")\n",
    "\n",
    "from NIRScanNano.course import DataReader, pca_to_pandas\n",
    "from NIRScanNano.course import pca_centroids, nearest_centroids, eval_distances\n",
    "from NIRScanNano.spectrum import average_spectra\n",
    "from NIRScanNano.visualization import plot_spectrum, pca_pairplot\n",
    "from NIRScanNano.analysis import snv, savgol, msc\n",
    "from NIRScanNano.analysis import PCAnalysis"
   ]
  },
  {
   "cell_type": "markdown",
   "metadata": {},
   "source": [
    "### Measurement data\n",
    "\n",
    "The course instructor will provide a directory with all measured spectra. Read the spectra of all groups to obtain the whole dataset and select your own afterward (by group number). "
   ]
  },
  {
   "cell_type": "code",
   "execution_count": null,
   "metadata": {},
   "outputs": [],
   "source": [
    "data = DataReader(\"data.csv\")"
   ]
  },
  {
   "cell_type": "code",
   "execution_count": null,
   "metadata": {},
   "outputs": [],
   "source": [
    "spectra = data.spectra_by_group(1)"
   ]
  },
  {
   "cell_type": "markdown",
   "metadata": {},
   "source": [
    "#### Optional Task:\n",
    "\n",
    "Inspect the header information of a single spectrum and discuss the content within your group."
   ]
  },
  {
   "cell_type": "code",
   "execution_count": null,
   "metadata": {},
   "outputs": [],
   "source": [
    "example_spectrum = spectra[0]\n",
    "\n",
    "for key, value in example_spectrum.header.items():\n",
    "    print(f\"{key}: {value}\")"
   ]
  },
  {
   "cell_type": "markdown",
   "metadata": {},
   "source": [
    "### Preprocessing\n",
    "\n",
    "Briefly describe the preprocessing methods used and demonstrate them for one example substance."
   ]
  },
  {
   "cell_type": "code",
   "execution_count": null,
   "metadata": {},
   "outputs": [],
   "source": [
    "example_spectra = [spectrum for spectrum in spectra if spectrum.header[\"Name\"] == \"<NAME>\"]"
   ]
  },
  {
   "cell_type": "markdown",
   "metadata": {},
   "source": [
    "#### Standard Normal Variate (SNV)\n",
    "\n",
    " [...]"
   ]
  },
  {
   "cell_type": "code",
   "execution_count": null,
   "metadata": {},
   "outputs": [],
   "source": []
  },
  {
   "cell_type": "markdown",
   "metadata": {},
   "source": [
    "#### Multiplicative Scatter Correction (MSV)\n",
    "\n",
    "How was the reference spectrum selected? \n",
    "\n",
    " [...]"
   ]
  },
  {
   "cell_type": "code",
   "execution_count": null,
   "metadata": {},
   "outputs": [],
   "source": []
  },
  {
   "cell_type": "markdown",
   "metadata": {},
   "source": [
    "#### Savitzky-Golay Filter (smoothing and derivatives)\n",
    "\n",
    " [...]"
   ]
  },
  {
   "cell_type": "code",
   "execution_count": null,
   "metadata": {},
   "outputs": [],
   "source": []
  },
  {
   "cell_type": "markdown",
   "metadata": {},
   "source": [
    "#### Visualization\n",
    "\n",
    "(use subplots to create a single image for all methods)"
   ]
  },
  {
   "cell_type": "code",
   "execution_count": null,
   "metadata": {},
   "outputs": [],
   "source": []
  },
  {
   "cell_type": "markdown",
   "metadata": {},
   "source": [
    "### Task: Caffeine Spectra\n",
    "\n",
    "Compare the spectra of caffeine and its citrate salt with and without preprocessing. Briefly discuss the results."
   ]
  },
  {
   "cell_type": "code",
   "execution_count": null,
   "metadata": {},
   "outputs": [],
   "source": []
  },
  {
   "cell_type": "markdown",
   "metadata": {},
   "source": [
    "### Task: Principal Component Analysis (PCA)\n",
    "\n",
    "Outline the principal component analysis and its application in NIR spectroscopy.\n",
    "\n",
    " [...] \n",
    " \n",
    "Perform the PCA with all of your measured spectra and your selected preprocessing method."
   ]
  },
  {
   "cell_type": "code",
   "execution_count": null,
   "metadata": {},
   "outputs": [],
   "source": [
    "pca = PCAnalysis([...])\n",
    "pca.run()\n",
    "\n",
    "# save as Pandas DataFrame for easier data handling\n",
    "pca_df = pca_to_pandas(pca, label=\"Name\")"
   ]
  },
  {
   "cell_type": "markdown",
   "metadata": {},
   "source": [
    "#### Visualization (pairplot)"
   ]
  },
  {
   "cell_type": "code",
   "execution_count": null,
   "metadata": {},
   "outputs": [],
   "source": []
  },
  {
   "cell_type": "markdown",
   "metadata": {},
   "source": [
    "### Task: Unknown Sample\n",
    "\n",
    "Check if a randomly selected sample corresponds to a substance of your measured samples.\n",
    "\n",
    " - Perform the same preprocessing steps as for your PCA\n",
    " - Calculate centroids and thresholds.\n",
    " - Calculate the distances for your randomly selected sample\n",
    " - Check the nearest centroid and evaluate the threshold"
   ]
  },
  {
   "cell_type": "code",
   "execution_count": null,
   "metadata": {},
   "outputs": [],
   "source": [
    "sample = data.random_sample()"
   ]
  },
  {
   "cell_type": "markdown",
   "metadata": {},
   "source": [
    "## Summary and Conclusion\n",
    "\n",
    " [...]"
   ]
  }
 ],
 "metadata": {
  "kernelspec": {
   "display_name": "Python 3",
   "language": "python",
   "name": "python3"
  },
  "language_info": {
   "codemirror_mode": {
    "name": "ipython",
    "version": 3
   },
   "file_extension": ".py",
   "mimetype": "text/x-python",
   "name": "python",
   "nbconvert_exporter": "python",
   "pygments_lexer": "ipython3",
   "version": "3.7.6"
  }
 },
 "nbformat": 4,
 "nbformat_minor": 4
}
